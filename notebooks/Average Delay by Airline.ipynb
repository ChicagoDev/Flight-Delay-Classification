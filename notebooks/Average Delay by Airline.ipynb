{
 "cells": [
  {
   "cell_type": "markdown",
   "metadata": {},
   "source": [
    "The large cell and data table shows per airline total departures and basic delay statistics. "
   ]
  },
  {
   "cell_type": "code",
   "execution_count": 68,
   "metadata": {},
   "outputs": [],
   "source": [
    "import os\n",
    "import sys\n",
    "module_path = os.path.abspath(os.path.join('..'))\n",
    "if module_path not in sys.path:\n",
    "    sys.path.append(module_path)\n",
    "\n",
    "from FAA import Ohare\n",
    "from FAA import Hanger\n",
    "import pandas as pd"
   ]
  },
  {
   "cell_type": "code",
   "execution_count": 69,
   "metadata": {},
   "outputs": [],
   "source": [
    "faa = Ohare.Ohare()"
   ]
  },
  {
   "cell_type": "markdown",
   "metadata": {},
   "source": [
    "## Gets the average delays for the airport's departures"
   ]
  },
  {
   "cell_type": "code",
   "execution_count": 70,
   "metadata": {},
   "outputs": [
    {
     "data": {
      "text/plain": [
       "42.71743952677723"
      ]
     },
     "execution_count": 70,
     "metadata": {},
     "output_type": "execute_result"
    }
   ],
   "source": [
    "departures = faa.flights_from_ohare\n",
    "departures = departures.dropna(subset=['DepDelay'])\n",
    "\n",
    "late_dep = departures[departures.DepDelay > 0]\n",
    "early_dep = departures[departures.DepDelay <= 0]\n",
    "\n",
    "early_dep.DepDelay.mean()\n",
    "late_dep.DepDelay.mean()\n",
    "\n"
   ]
  },
  {
   "cell_type": "code",
   "execution_count": 65,
   "metadata": {},
   "outputs": [
    {
     "data": {
      "text/plain": [
       "25125"
      ]
     },
     "execution_count": 65,
     "metadata": {},
     "output_type": "execute_result"
    }
   ],
   "source": []
  },
  {
   "cell_type": "code",
   "execution_count": 76,
   "metadata": {},
   "outputs": [
    {
     "data": {
      "text/html": [
       "<div>\n",
       "<style scoped>\n",
       "    .dataframe tbody tr th:only-of-type {\n",
       "        vertical-align: middle;\n",
       "    }\n",
       "\n",
       "    .dataframe tbody tr th {\n",
       "        vertical-align: top;\n",
       "    }\n",
       "\n",
       "    .dataframe thead th {\n",
       "        text-align: right;\n",
       "    }\n",
       "</style>\n",
       "<table border=\"1\" class=\"dataframe\">\n",
       "  <thead>\n",
       "    <tr style=\"text-align: right;\">\n",
       "      <th></th>\n",
       "      <th>Total_Departures</th>\n",
       "      <th>Late_Departures</th>\n",
       "      <th>Avg_Delay</th>\n",
       "      <th>Early_Departures</th>\n",
       "      <th>Avg_Early_Minutes_SVD</th>\n",
       "      <th>Port_Traffic_Share</th>\n",
       "      <th>Percent_Late_Departures</th>\n",
       "    </tr>\n",
       "    <tr>\n",
       "      <th>Reporting_Airline</th>\n",
       "      <th></th>\n",
       "      <th></th>\n",
       "      <th></th>\n",
       "      <th></th>\n",
       "      <th></th>\n",
       "      <th></th>\n",
       "      <th></th>\n",
       "    </tr>\n",
       "  </thead>\n",
       "  <tbody>\n",
       "    <tr>\n",
       "      <th>9E</th>\n",
       "      <td>147</td>\n",
       "      <td>48</td>\n",
       "      <td>32.229167</td>\n",
       "      <td>99</td>\n",
       "      <td>-4.898990</td>\n",
       "      <td>0.585075</td>\n",
       "      <td>0.326531</td>\n",
       "    </tr>\n",
       "    <tr>\n",
       "      <th>AA</th>\n",
       "      <td>5120</td>\n",
       "      <td>2123</td>\n",
       "      <td>26.459727</td>\n",
       "      <td>2997</td>\n",
       "      <td>-4.360694</td>\n",
       "      <td>20.378109</td>\n",
       "      <td>0.414648</td>\n",
       "    </tr>\n",
       "    <tr>\n",
       "      <th>AS</th>\n",
       "      <td>156</td>\n",
       "      <td>28</td>\n",
       "      <td>21.642857</td>\n",
       "      <td>128</td>\n",
       "      <td>-8.179688</td>\n",
       "      <td>0.620896</td>\n",
       "      <td>0.179487</td>\n",
       "    </tr>\n",
       "    <tr>\n",
       "      <th>B6</th>\n",
       "      <td>161</td>\n",
       "      <td>74</td>\n",
       "      <td>70.189189</td>\n",
       "      <td>87</td>\n",
       "      <td>-8.471264</td>\n",
       "      <td>0.640796</td>\n",
       "      <td>0.459627</td>\n",
       "    </tr>\n",
       "    <tr>\n",
       "      <th>DL</th>\n",
       "      <td>537</td>\n",
       "      <td>196</td>\n",
       "      <td>39.668367</td>\n",
       "      <td>341</td>\n",
       "      <td>-4.539589</td>\n",
       "      <td>2.137313</td>\n",
       "      <td>0.364991</td>\n",
       "    </tr>\n",
       "    <tr>\n",
       "      <th>EV</th>\n",
       "      <td>912</td>\n",
       "      <td>364</td>\n",
       "      <td>41.747253</td>\n",
       "      <td>548</td>\n",
       "      <td>-4.735401</td>\n",
       "      <td>3.629851</td>\n",
       "      <td>0.399123</td>\n",
       "    </tr>\n",
       "    <tr>\n",
       "      <th>F9</th>\n",
       "      <td>213</td>\n",
       "      <td>64</td>\n",
       "      <td>85.343750</td>\n",
       "      <td>149</td>\n",
       "      <td>-5.885906</td>\n",
       "      <td>0.847761</td>\n",
       "      <td>0.300469</td>\n",
       "    </tr>\n",
       "    <tr>\n",
       "      <th>MQ</th>\n",
       "      <td>4570</td>\n",
       "      <td>1652</td>\n",
       "      <td>33.800847</td>\n",
       "      <td>2918</td>\n",
       "      <td>-2.871487</td>\n",
       "      <td>18.189055</td>\n",
       "      <td>0.361488</td>\n",
       "    </tr>\n",
       "    <tr>\n",
       "      <th>NK</th>\n",
       "      <td>764</td>\n",
       "      <td>197</td>\n",
       "      <td>43.578680</td>\n",
       "      <td>567</td>\n",
       "      <td>-7.079365</td>\n",
       "      <td>3.040796</td>\n",
       "      <td>0.257853</td>\n",
       "    </tr>\n",
       "    <tr>\n",
       "      <th>OH</th>\n",
       "      <td>173</td>\n",
       "      <td>98</td>\n",
       "      <td>58.775510</td>\n",
       "      <td>75</td>\n",
       "      <td>-3.013333</td>\n",
       "      <td>0.688557</td>\n",
       "      <td>0.566474</td>\n",
       "    </tr>\n",
       "    <tr>\n",
       "      <th>OO</th>\n",
       "      <td>5764</td>\n",
       "      <td>2604</td>\n",
       "      <td>64.989631</td>\n",
       "      <td>3160</td>\n",
       "      <td>-5.036709</td>\n",
       "      <td>22.941294</td>\n",
       "      <td>0.451770</td>\n",
       "    </tr>\n",
       "    <tr>\n",
       "      <th>UA</th>\n",
       "      <td>5120</td>\n",
       "      <td>1533</td>\n",
       "      <td>32.338552</td>\n",
       "      <td>3587</td>\n",
       "      <td>-4.298021</td>\n",
       "      <td>20.378109</td>\n",
       "      <td>0.299414</td>\n",
       "    </tr>\n",
       "    <tr>\n",
       "      <th>VX</th>\n",
       "      <td>70</td>\n",
       "      <td>26</td>\n",
       "      <td>22.769231</td>\n",
       "      <td>44</td>\n",
       "      <td>-7.977273</td>\n",
       "      <td>0.278607</td>\n",
       "      <td>0.371429</td>\n",
       "    </tr>\n",
       "    <tr>\n",
       "      <th>YX</th>\n",
       "      <td>1418</td>\n",
       "      <td>460</td>\n",
       "      <td>49.713043</td>\n",
       "      <td>958</td>\n",
       "      <td>-4.724426</td>\n",
       "      <td>5.643781</td>\n",
       "      <td>0.324401</td>\n",
       "    </tr>\n",
       "  </tbody>\n",
       "</table>\n",
       "</div>"
      ],
      "text/plain": [
       "                   Total_Departures  Late_Departures  Avg_Delay  \\\n",
       "Reporting_Airline                                                 \n",
       "9E                              147               48  32.229167   \n",
       "AA                             5120             2123  26.459727   \n",
       "AS                              156               28  21.642857   \n",
       "B6                              161               74  70.189189   \n",
       "DL                              537              196  39.668367   \n",
       "EV                              912              364  41.747253   \n",
       "F9                              213               64  85.343750   \n",
       "MQ                             4570             1652  33.800847   \n",
       "NK                              764              197  43.578680   \n",
       "OH                              173               98  58.775510   \n",
       "OO                             5764             2604  64.989631   \n",
       "UA                             5120             1533  32.338552   \n",
       "VX                               70               26  22.769231   \n",
       "YX                             1418              460  49.713043   \n",
       "\n",
       "                   Early_Departures  Avg_Early_Minutes_SVD  \\\n",
       "Reporting_Airline                                            \n",
       "9E                               99              -4.898990   \n",
       "AA                             2997              -4.360694   \n",
       "AS                              128              -8.179688   \n",
       "B6                               87              -8.471264   \n",
       "DL                              341              -4.539589   \n",
       "EV                              548              -4.735401   \n",
       "F9                              149              -5.885906   \n",
       "MQ                             2918              -2.871487   \n",
       "NK                              567              -7.079365   \n",
       "OH                               75              -3.013333   \n",
       "OO                             3160              -5.036709   \n",
       "UA                             3587              -4.298021   \n",
       "VX                               44              -7.977273   \n",
       "YX                              958              -4.724426   \n",
       "\n",
       "                   Port_Traffic_Share  Percent_Late_Departures  \n",
       "Reporting_Airline                                               \n",
       "9E                           0.585075                 0.326531  \n",
       "AA                          20.378109                 0.414648  \n",
       "AS                           0.620896                 0.179487  \n",
       "B6                           0.640796                 0.459627  \n",
       "DL                           2.137313                 0.364991  \n",
       "EV                           3.629851                 0.399123  \n",
       "F9                           0.847761                 0.300469  \n",
       "MQ                          18.189055                 0.361488  \n",
       "NK                           3.040796                 0.257853  \n",
       "OH                           0.688557                 0.566474  \n",
       "OO                          22.941294                 0.451770  \n",
       "UA                          20.378109                 0.299414  \n",
       "VX                           0.278607                 0.371429  \n",
       "YX                           5.643781                 0.324401  "
      ]
     },
     "execution_count": 76,
     "metadata": {},
     "output_type": "execute_result"
    }
   ],
   "source": [
    "airport_volume = len(departures)\n",
    "airport_volume\n",
    "\n",
    "\n",
    "total_flights = pd.DataFrame(departures.groupby('Reporting_Airline').size())\n",
    "\n",
    "total_flights = total_flights.rename(columns={0: 'Total_Departures'})\n",
    "\n",
    "\n",
    "## Append the LATE departure Stats\n",
    "total_flights = pd.concat([total_flights,late_dep.groupby('Reporting_Airline').count()[['DepDelay']]], axis=1)\n",
    "total_flights = total_flights.rename(columns={'DepDelay': 'Late_Departures'})\n",
    "\n",
    "total_flights = pd.concat([total_flights,late_dep.groupby('Reporting_Airline').mean()[['DepDelay']]], axis=1)\n",
    "total_flights = total_flights.rename(columns={'DepDelay': 'Avg_Delay'})\n",
    "\n",
    "#Append the EARLY departure stats\n",
    "total_flights = pd.concat([total_flights,early_dep.groupby('Reporting_Airline').count()[['DepDelay']]], axis=1)\n",
    "total_flights = total_flights.rename(columns={'DepDelay': 'Early_Departures'})\n",
    "\n",
    "total_flights = pd.concat([total_flights,early_dep.groupby('Reporting_Airline').mean()[['DepDelay']]], axis=1)\n",
    "total_flights = total_flights.rename(columns={'DepDelay': 'Avg_Early_Minutes_SVD'})\n",
    "\n",
    "\n",
    "#Append Misc stats\n",
    "total_flights['Port_Traffic_Share'] = 100*total_flights['Total_Departures'] / airport_volume\n",
    "\n",
    "total_flights['Percent_Late_Departures'] = total_flights['Late_Departures'] / total_flights['Total_Departures']\n",
    "\n",
    "total_flights"
   ]
  },
  {
   "cell_type": "code",
   "execution_count": 79,
   "metadata": {},
   "outputs": [
    {
     "data": {
      "text/plain": [
       "'{\"Total_Departures\":{\"9E\":147,\"AA\":5120,\"AS\":156,\"B6\":161,\"DL\":537,\"EV\":912,\"F9\":213,\"MQ\":4570,\"NK\":764,\"OH\":173,\"OO\":5764,\"UA\":5120,\"VX\":70,\"YX\":1418},\"Late_Departures\":{\"9E\":48,\"AA\":2123,\"AS\":28,\"B6\":74,\"DL\":196,\"EV\":364,\"F9\":64,\"MQ\":1652,\"NK\":197,\"OH\":98,\"OO\":2604,\"UA\":1533,\"VX\":26,\"YX\":460},\"Avg_Delay\":{\"9E\":32.2291666667,\"AA\":26.4597268017,\"AS\":21.6428571429,\"B6\":70.1891891892,\"DL\":39.6683673469,\"EV\":41.7472527473,\"F9\":85.34375,\"MQ\":33.8008474576,\"NK\":43.578680203,\"OH\":58.7755102041,\"OO\":64.9896313364,\"UA\":32.3385518591,\"VX\":22.7692307692,\"YX\":49.7130434783},\"Early_Departures\":{\"9E\":99,\"AA\":2997,\"AS\":128,\"B6\":87,\"DL\":341,\"EV\":548,\"F9\":149,\"MQ\":2918,\"NK\":567,\"OH\":75,\"OO\":3160,\"UA\":3587,\"VX\":44,\"YX\":958},\"Avg_Early_Minutes_SVD\":{\"9E\":-4.898989899,\"AA\":-4.3606940274,\"AS\":-8.1796875,\"B6\":-8.4712643678,\"DL\":-4.5395894428,\"EV\":-4.7354014599,\"F9\":-5.8859060403,\"MQ\":-2.8714873201,\"NK\":-7.0793650794,\"OH\":-3.0133333333,\"OO\":-5.0367088608,\"UA\":-4.2980206301,\"VX\":-7.9772727273,\"YX\":-4.7244258873},\"Port_Traffic_Share\":{\"9E\":0.5850746269,\"AA\":20.3781094527,\"AS\":0.6208955224,\"B6\":0.6407960199,\"DL\":2.1373134328,\"EV\":3.6298507463,\"F9\":0.847761194,\"MQ\":18.1890547264,\"NK\":3.0407960199,\"OH\":0.6885572139,\"OO\":22.9412935323,\"UA\":20.3781094527,\"VX\":0.2786069652,\"YX\":5.6437810945},\"Percent_Late_Departures\":{\"9E\":0.3265306122,\"AA\":0.4146484375,\"AS\":0.1794871795,\"B6\":0.4596273292,\"DL\":0.364990689,\"EV\":0.399122807,\"F9\":0.3004694836,\"MQ\":0.361487965,\"NK\":0.2578534031,\"OH\":0.5664739884,\"OO\":0.4517696044,\"UA\":0.2994140625,\"VX\":0.3714285714,\"YX\":0.3244005642}}'"
      ]
     },
     "execution_count": 79,
     "metadata": {},
     "output_type": "execute_result"
    }
   ],
   "source": [
    "total_flights.to_json()"
   ]
  },
  {
   "cell_type": "code",
   "execution_count": 61,
   "metadata": {},
   "outputs": [],
   "source": [
    "total_flights['percentage_late'] = total_flights['Late_Departures'] / total_flights['Total_Departures']"
   ]
  },
  {
   "cell_type": "code",
   "execution_count": 62,
   "metadata": {
    "collapsed": true
   },
   "outputs": [
    {
     "data": {
      "text/html": [
       "<div>\n",
       "<style scoped>\n",
       "    .dataframe tbody tr th:only-of-type {\n",
       "        vertical-align: middle;\n",
       "    }\n",
       "\n",
       "    .dataframe tbody tr th {\n",
       "        vertical-align: top;\n",
       "    }\n",
       "\n",
       "    .dataframe thead th {\n",
       "        text-align: right;\n",
       "    }\n",
       "</style>\n",
       "<table border=\"1\" class=\"dataframe\">\n",
       "  <thead>\n",
       "    <tr style=\"text-align: right;\">\n",
       "      <th></th>\n",
       "      <th>Total_Departures</th>\n",
       "      <th>Late_Departures</th>\n",
       "      <th>Avg_Delay</th>\n",
       "      <th>Early_Departures</th>\n",
       "      <th>Avg_Delay</th>\n",
       "      <th>percentage_late</th>\n",
       "    </tr>\n",
       "    <tr>\n",
       "      <th>Reporting_Airline</th>\n",
       "      <th></th>\n",
       "      <th></th>\n",
       "      <th></th>\n",
       "      <th></th>\n",
       "      <th></th>\n",
       "      <th></th>\n",
       "    </tr>\n",
       "  </thead>\n",
       "  <tbody>\n",
       "    <tr>\n",
       "      <th>9E</th>\n",
       "      <td>147</td>\n",
       "      <td>48</td>\n",
       "      <td>32.229167</td>\n",
       "      <td>99</td>\n",
       "      <td>-4.898990</td>\n",
       "      <td>0.326531</td>\n",
       "    </tr>\n",
       "    <tr>\n",
       "      <th>AA</th>\n",
       "      <td>5120</td>\n",
       "      <td>2123</td>\n",
       "      <td>26.459727</td>\n",
       "      <td>2997</td>\n",
       "      <td>-4.360694</td>\n",
       "      <td>0.414648</td>\n",
       "    </tr>\n",
       "    <tr>\n",
       "      <th>AS</th>\n",
       "      <td>156</td>\n",
       "      <td>28</td>\n",
       "      <td>21.642857</td>\n",
       "      <td>128</td>\n",
       "      <td>-8.179688</td>\n",
       "      <td>0.179487</td>\n",
       "    </tr>\n",
       "    <tr>\n",
       "      <th>B6</th>\n",
       "      <td>161</td>\n",
       "      <td>74</td>\n",
       "      <td>70.189189</td>\n",
       "      <td>87</td>\n",
       "      <td>-8.471264</td>\n",
       "      <td>0.459627</td>\n",
       "    </tr>\n",
       "    <tr>\n",
       "      <th>DL</th>\n",
       "      <td>537</td>\n",
       "      <td>196</td>\n",
       "      <td>39.668367</td>\n",
       "      <td>341</td>\n",
       "      <td>-4.539589</td>\n",
       "      <td>0.364991</td>\n",
       "    </tr>\n",
       "    <tr>\n",
       "      <th>EV</th>\n",
       "      <td>912</td>\n",
       "      <td>364</td>\n",
       "      <td>41.747253</td>\n",
       "      <td>548</td>\n",
       "      <td>-4.735401</td>\n",
       "      <td>0.399123</td>\n",
       "    </tr>\n",
       "    <tr>\n",
       "      <th>F9</th>\n",
       "      <td>213</td>\n",
       "      <td>64</td>\n",
       "      <td>85.343750</td>\n",
       "      <td>149</td>\n",
       "      <td>-5.885906</td>\n",
       "      <td>0.300469</td>\n",
       "    </tr>\n",
       "    <tr>\n",
       "      <th>MQ</th>\n",
       "      <td>4570</td>\n",
       "      <td>1652</td>\n",
       "      <td>33.800847</td>\n",
       "      <td>2918</td>\n",
       "      <td>-2.871487</td>\n",
       "      <td>0.361488</td>\n",
       "    </tr>\n",
       "    <tr>\n",
       "      <th>NK</th>\n",
       "      <td>764</td>\n",
       "      <td>197</td>\n",
       "      <td>43.578680</td>\n",
       "      <td>567</td>\n",
       "      <td>-7.079365</td>\n",
       "      <td>0.257853</td>\n",
       "    </tr>\n",
       "    <tr>\n",
       "      <th>OH</th>\n",
       "      <td>173</td>\n",
       "      <td>98</td>\n",
       "      <td>58.775510</td>\n",
       "      <td>75</td>\n",
       "      <td>-3.013333</td>\n",
       "      <td>0.566474</td>\n",
       "    </tr>\n",
       "    <tr>\n",
       "      <th>OO</th>\n",
       "      <td>5764</td>\n",
       "      <td>2604</td>\n",
       "      <td>64.989631</td>\n",
       "      <td>3160</td>\n",
       "      <td>-5.036709</td>\n",
       "      <td>0.451770</td>\n",
       "    </tr>\n",
       "    <tr>\n",
       "      <th>UA</th>\n",
       "      <td>5120</td>\n",
       "      <td>1533</td>\n",
       "      <td>32.338552</td>\n",
       "      <td>3587</td>\n",
       "      <td>-4.298021</td>\n",
       "      <td>0.299414</td>\n",
       "    </tr>\n",
       "    <tr>\n",
       "      <th>VX</th>\n",
       "      <td>70</td>\n",
       "      <td>26</td>\n",
       "      <td>22.769231</td>\n",
       "      <td>44</td>\n",
       "      <td>-7.977273</td>\n",
       "      <td>0.371429</td>\n",
       "    </tr>\n",
       "    <tr>\n",
       "      <th>YX</th>\n",
       "      <td>1418</td>\n",
       "      <td>460</td>\n",
       "      <td>49.713043</td>\n",
       "      <td>958</td>\n",
       "      <td>-4.724426</td>\n",
       "      <td>0.324401</td>\n",
       "    </tr>\n",
       "  </tbody>\n",
       "</table>\n",
       "</div>"
      ],
      "text/plain": [
       "                   Total_Departures  Late_Departures  Avg_Delay  \\\n",
       "Reporting_Airline                                                 \n",
       "9E                              147               48  32.229167   \n",
       "AA                             5120             2123  26.459727   \n",
       "AS                              156               28  21.642857   \n",
       "B6                              161               74  70.189189   \n",
       "DL                              537              196  39.668367   \n",
       "EV                              912              364  41.747253   \n",
       "F9                              213               64  85.343750   \n",
       "MQ                             4570             1652  33.800847   \n",
       "NK                              764              197  43.578680   \n",
       "OH                              173               98  58.775510   \n",
       "OO                             5764             2604  64.989631   \n",
       "UA                             5120             1533  32.338552   \n",
       "VX                               70               26  22.769231   \n",
       "YX                             1418              460  49.713043   \n",
       "\n",
       "                   Early_Departures  Avg_Delay  percentage_late  \n",
       "Reporting_Airline                                                \n",
       "9E                               99  -4.898990         0.326531  \n",
       "AA                             2997  -4.360694         0.414648  \n",
       "AS                              128  -8.179688         0.179487  \n",
       "B6                               87  -8.471264         0.459627  \n",
       "DL                              341  -4.539589         0.364991  \n",
       "EV                              548  -4.735401         0.399123  \n",
       "F9                              149  -5.885906         0.300469  \n",
       "MQ                             2918  -2.871487         0.361488  \n",
       "NK                              567  -7.079365         0.257853  \n",
       "OH                               75  -3.013333         0.566474  \n",
       "OO                             3160  -5.036709         0.451770  \n",
       "UA                             3587  -4.298021         0.299414  \n",
       "VX                               44  -7.977273         0.371429  \n",
       "YX                              958  -4.724426         0.324401  "
      ]
     },
     "execution_count": 62,
     "metadata": {},
     "output_type": "execute_result"
    }
   ],
   "source": [
    "total_flights"
   ]
  },
  {
   "cell_type": "code",
   "execution_count": 49,
   "metadata": {
    "collapsed": true
   },
   "outputs": [
    {
     "data": {
      "text/html": [
       "<div>\n",
       "<style scoped>\n",
       "    .dataframe tbody tr th:only-of-type {\n",
       "        vertical-align: middle;\n",
       "    }\n",
       "\n",
       "    .dataframe tbody tr th {\n",
       "        vertical-align: top;\n",
       "    }\n",
       "\n",
       "    .dataframe thead th {\n",
       "        text-align: right;\n",
       "    }\n",
       "</style>\n",
       "<table border=\"1\" class=\"dataframe\">\n",
       "  <thead>\n",
       "    <tr style=\"text-align: right;\">\n",
       "      <th></th>\n",
       "      <th>Total_Departures</th>\n",
       "      <th>DepDelay</th>\n",
       "    </tr>\n",
       "    <tr>\n",
       "      <th>Reporting_Airline</th>\n",
       "      <th></th>\n",
       "      <th></th>\n",
       "    </tr>\n",
       "  </thead>\n",
       "  <tbody>\n",
       "    <tr>\n",
       "      <th>9E</th>\n",
       "      <td>147</td>\n",
       "      <td>48</td>\n",
       "    </tr>\n",
       "    <tr>\n",
       "      <th>AA</th>\n",
       "      <td>5120</td>\n",
       "      <td>2123</td>\n",
       "    </tr>\n",
       "    <tr>\n",
       "      <th>AS</th>\n",
       "      <td>156</td>\n",
       "      <td>28</td>\n",
       "    </tr>\n",
       "    <tr>\n",
       "      <th>B6</th>\n",
       "      <td>161</td>\n",
       "      <td>74</td>\n",
       "    </tr>\n",
       "    <tr>\n",
       "      <th>DL</th>\n",
       "      <td>537</td>\n",
       "      <td>196</td>\n",
       "    </tr>\n",
       "    <tr>\n",
       "      <th>EV</th>\n",
       "      <td>912</td>\n",
       "      <td>364</td>\n",
       "    </tr>\n",
       "    <tr>\n",
       "      <th>F9</th>\n",
       "      <td>213</td>\n",
       "      <td>64</td>\n",
       "    </tr>\n",
       "    <tr>\n",
       "      <th>MQ</th>\n",
       "      <td>4570</td>\n",
       "      <td>1652</td>\n",
       "    </tr>\n",
       "    <tr>\n",
       "      <th>NK</th>\n",
       "      <td>764</td>\n",
       "      <td>197</td>\n",
       "    </tr>\n",
       "    <tr>\n",
       "      <th>OH</th>\n",
       "      <td>173</td>\n",
       "      <td>98</td>\n",
       "    </tr>\n",
       "    <tr>\n",
       "      <th>OO</th>\n",
       "      <td>5764</td>\n",
       "      <td>2604</td>\n",
       "    </tr>\n",
       "    <tr>\n",
       "      <th>UA</th>\n",
       "      <td>5120</td>\n",
       "      <td>1533</td>\n",
       "    </tr>\n",
       "    <tr>\n",
       "      <th>VX</th>\n",
       "      <td>70</td>\n",
       "      <td>26</td>\n",
       "    </tr>\n",
       "    <tr>\n",
       "      <th>YX</th>\n",
       "      <td>1418</td>\n",
       "      <td>460</td>\n",
       "    </tr>\n",
       "  </tbody>\n",
       "</table>\n",
       "</div>"
      ],
      "text/plain": [
       "                   Total_Departures  DepDelay\n",
       "Reporting_Airline                            \n",
       "9E                              147        48\n",
       "AA                             5120      2123\n",
       "AS                              156        28\n",
       "B6                              161        74\n",
       "DL                              537       196\n",
       "EV                              912       364\n",
       "F9                              213        64\n",
       "MQ                             4570      1652\n",
       "NK                              764       197\n",
       "OH                              173        98\n",
       "OO                             5764      2604\n",
       "UA                             5120      1533\n",
       "VX                               70        26\n",
       "YX                             1418       460"
      ]
     },
     "execution_count": 49,
     "metadata": {},
     "output_type": "execute_result"
    }
   ],
   "source": [
    "pd.concat([total_flights,late_dep.groupby('Reporting_Airline').count()[['DepDelay']]], axis=1)"
   ]
  },
  {
   "cell_type": "code",
   "execution_count": 50,
   "metadata": {
    "collapsed": true
   },
   "outputs": [
    {
     "data": {
      "text/html": [
       "<div>\n",
       "<style scoped>\n",
       "    .dataframe tbody tr th:only-of-type {\n",
       "        vertical-align: middle;\n",
       "    }\n",
       "\n",
       "    .dataframe tbody tr th {\n",
       "        vertical-align: top;\n",
       "    }\n",
       "\n",
       "    .dataframe thead th {\n",
       "        text-align: right;\n",
       "    }\n",
       "</style>\n",
       "<table border=\"1\" class=\"dataframe\">\n",
       "  <thead>\n",
       "    <tr style=\"text-align: right;\">\n",
       "      <th></th>\n",
       "      <th>DepDelay</th>\n",
       "    </tr>\n",
       "    <tr>\n",
       "      <th>Reporting_Airline</th>\n",
       "      <th></th>\n",
       "    </tr>\n",
       "  </thead>\n",
       "  <tbody>\n",
       "    <tr>\n",
       "      <th>9E</th>\n",
       "      <td>48</td>\n",
       "    </tr>\n",
       "    <tr>\n",
       "      <th>AA</th>\n",
       "      <td>2123</td>\n",
       "    </tr>\n",
       "    <tr>\n",
       "      <th>AS</th>\n",
       "      <td>28</td>\n",
       "    </tr>\n",
       "    <tr>\n",
       "      <th>B6</th>\n",
       "      <td>74</td>\n",
       "    </tr>\n",
       "    <tr>\n",
       "      <th>DL</th>\n",
       "      <td>196</td>\n",
       "    </tr>\n",
       "    <tr>\n",
       "      <th>EV</th>\n",
       "      <td>364</td>\n",
       "    </tr>\n",
       "    <tr>\n",
       "      <th>F9</th>\n",
       "      <td>64</td>\n",
       "    </tr>\n",
       "    <tr>\n",
       "      <th>MQ</th>\n",
       "      <td>1652</td>\n",
       "    </tr>\n",
       "    <tr>\n",
       "      <th>NK</th>\n",
       "      <td>197</td>\n",
       "    </tr>\n",
       "    <tr>\n",
       "      <th>OH</th>\n",
       "      <td>98</td>\n",
       "    </tr>\n",
       "    <tr>\n",
       "      <th>OO</th>\n",
       "      <td>2604</td>\n",
       "    </tr>\n",
       "    <tr>\n",
       "      <th>UA</th>\n",
       "      <td>1533</td>\n",
       "    </tr>\n",
       "    <tr>\n",
       "      <th>VX</th>\n",
       "      <td>26</td>\n",
       "    </tr>\n",
       "    <tr>\n",
       "      <th>YX</th>\n",
       "      <td>460</td>\n",
       "    </tr>\n",
       "  </tbody>\n",
       "</table>\n",
       "</div>"
      ],
      "text/plain": [
       "                   DepDelay\n",
       "Reporting_Airline          \n",
       "9E                       48\n",
       "AA                     2123\n",
       "AS                       28\n",
       "B6                       74\n",
       "DL                      196\n",
       "EV                      364\n",
       "F9                       64\n",
       "MQ                     1652\n",
       "NK                      197\n",
       "OH                       98\n",
       "OO                     2604\n",
       "UA                     1533\n",
       "VX                       26\n",
       "YX                      460"
      ]
     },
     "execution_count": 50,
     "metadata": {},
     "output_type": "execute_result"
    }
   ],
   "source": [
    "late_dep.groupby('Reporting_Airline').count()[['DepDelay']]"
   ]
  },
  {
   "cell_type": "code",
   "execution_count": 10,
   "metadata": {},
   "outputs": [
    {
     "data": {
      "text/plain": [
       "15658"
      ]
     },
     "execution_count": 10,
     "metadata": {},
     "output_type": "execute_result"
    }
   ],
   "source": [
    "len(departures[departures.DepDelay <= 0])"
   ]
  },
  {
   "cell_type": "code",
   "execution_count": 11,
   "metadata": {},
   "outputs": [
    {
     "data": {
      "text/plain": [
       "25680"
      ]
     },
     "execution_count": 11,
     "metadata": {},
     "output_type": "execute_result"
    }
   ],
   "source": [
    "len(departures)"
   ]
  },
  {
   "cell_type": "code",
   "execution_count": 12,
   "metadata": {},
   "outputs": [
    {
     "data": {
      "text/plain": [
       "25125"
      ]
     },
     "execution_count": 12,
     "metadata": {},
     "output_type": "execute_result"
    }
   ],
   "source": [
    "15658+9467"
   ]
  },
  {
   "cell_type": "code",
   "execution_count": 15,
   "metadata": {},
   "outputs": [],
   "source": [
    "departures = departures.dropna(subset=['DepDelay'])"
   ]
  },
  {
   "cell_type": "code",
   "execution_count": 16,
   "metadata": {},
   "outputs": [],
   "source": [
    "late_dep = departures[departures.DepDelay > 0]"
   ]
  },
  {
   "cell_type": "code",
   "execution_count": 17,
   "metadata": {},
   "outputs": [],
   "source": [
    "early_dep = departures[departures.DepDelay <= 0]"
   ]
  },
  {
   "cell_type": "code",
   "execution_count": 18,
   "metadata": {},
   "outputs": [
    {
     "data": {
      "text/plain": [
       "-4.4186358411035895"
      ]
     },
     "execution_count": 18,
     "metadata": {},
     "output_type": "execute_result"
    }
   ],
   "source": [
    "early_dep.DepDelay.mean()"
   ]
  },
  {
   "cell_type": "code",
   "execution_count": 19,
   "metadata": {},
   "outputs": [
    {
     "data": {
      "text/plain": [
       "42.71743952677723"
      ]
     },
     "execution_count": 19,
     "metadata": {},
     "output_type": "execute_result"
    }
   ],
   "source": [
    "late_dep.DepDelay.mean()"
   ]
  },
  {
   "cell_type": "code",
   "execution_count": 20,
   "metadata": {},
   "outputs": [
    {
     "data": {
      "text/plain": [
       "9467"
      ]
     },
     "execution_count": 20,
     "metadata": {},
     "output_type": "execute_result"
    }
   ],
   "source": [
    "len(late_dep)"
   ]
  },
  {
   "cell_type": "code",
   "execution_count": 21,
   "metadata": {},
   "outputs": [
    {
     "data": {
      "text/plain": [
       "15658"
      ]
     },
     "execution_count": 21,
     "metadata": {},
     "output_type": "execute_result"
    }
   ],
   "source": [
    "len(early_dep)"
   ]
  },
  {
   "cell_type": "code",
   "execution_count": 23,
   "metadata": {},
   "outputs": [
    {
     "data": {
      "text/plain": [
       "0.3767960199004975"
      ]
     },
     "execution_count": 23,
     "metadata": {},
     "output_type": "execute_result"
    }
   ],
   "source": [
    "len(late_dep)/(len(early_dep)+len(late_dep))"
   ]
  },
  {
   "cell_type": "code",
   "execution_count": 54,
   "metadata": {},
   "outputs": [
    {
     "data": {
      "text/html": [
       "<div>\n",
       "<style scoped>\n",
       "    .dataframe tbody tr th:only-of-type {\n",
       "        vertical-align: middle;\n",
       "    }\n",
       "\n",
       "    .dataframe tbody tr th {\n",
       "        vertical-align: top;\n",
       "    }\n",
       "\n",
       "    .dataframe thead th {\n",
       "        text-align: right;\n",
       "    }\n",
       "</style>\n",
       "<table border=\"1\" class=\"dataframe\">\n",
       "  <thead>\n",
       "    <tr style=\"text-align: right;\">\n",
       "      <th></th>\n",
       "      <th>DepDelay</th>\n",
       "    </tr>\n",
       "    <tr>\n",
       "      <th>Reporting_Airline</th>\n",
       "      <th></th>\n",
       "    </tr>\n",
       "  </thead>\n",
       "  <tbody>\n",
       "    <tr>\n",
       "      <th>9E</th>\n",
       "      <td>32.229167</td>\n",
       "    </tr>\n",
       "    <tr>\n",
       "      <th>AA</th>\n",
       "      <td>26.459727</td>\n",
       "    </tr>\n",
       "    <tr>\n",
       "      <th>AS</th>\n",
       "      <td>21.642857</td>\n",
       "    </tr>\n",
       "    <tr>\n",
       "      <th>B6</th>\n",
       "      <td>70.189189</td>\n",
       "    </tr>\n",
       "    <tr>\n",
       "      <th>DL</th>\n",
       "      <td>39.668367</td>\n",
       "    </tr>\n",
       "    <tr>\n",
       "      <th>EV</th>\n",
       "      <td>41.747253</td>\n",
       "    </tr>\n",
       "    <tr>\n",
       "      <th>F9</th>\n",
       "      <td>85.343750</td>\n",
       "    </tr>\n",
       "    <tr>\n",
       "      <th>MQ</th>\n",
       "      <td>33.800847</td>\n",
       "    </tr>\n",
       "    <tr>\n",
       "      <th>NK</th>\n",
       "      <td>43.578680</td>\n",
       "    </tr>\n",
       "    <tr>\n",
       "      <th>OH</th>\n",
       "      <td>58.775510</td>\n",
       "    </tr>\n",
       "    <tr>\n",
       "      <th>OO</th>\n",
       "      <td>64.989631</td>\n",
       "    </tr>\n",
       "    <tr>\n",
       "      <th>UA</th>\n",
       "      <td>32.338552</td>\n",
       "    </tr>\n",
       "    <tr>\n",
       "      <th>VX</th>\n",
       "      <td>22.769231</td>\n",
       "    </tr>\n",
       "    <tr>\n",
       "      <th>YX</th>\n",
       "      <td>49.713043</td>\n",
       "    </tr>\n",
       "  </tbody>\n",
       "</table>\n",
       "</div>"
      ],
      "text/plain": [
       "                    DepDelay\n",
       "Reporting_Airline           \n",
       "9E                 32.229167\n",
       "AA                 26.459727\n",
       "AS                 21.642857\n",
       "B6                 70.189189\n",
       "DL                 39.668367\n",
       "EV                 41.747253\n",
       "F9                 85.343750\n",
       "MQ                 33.800847\n",
       "NK                 43.578680\n",
       "OH                 58.775510\n",
       "OO                 64.989631\n",
       "UA                 32.338552\n",
       "VX                 22.769231\n",
       "YX                 49.713043"
      ]
     },
     "execution_count": 54,
     "metadata": {},
     "output_type": "execute_result"
    }
   ],
   "source": [
    "late_dep.groupby('Reporting_Airline').mean()[['DepDelay']]"
   ]
  },
  {
   "cell_type": "code",
   "execution_count": 31,
   "metadata": {},
   "outputs": [],
   "source": [
    "import seaborn as sns"
   ]
  },
  {
   "cell_type": "code",
   "execution_count": 33,
   "metadata": {
    "collapsed": true
   },
   "outputs": [
    {
     "data": {
      "text/html": [
       "<div>\n",
       "<style scoped>\n",
       "    .dataframe tbody tr th:only-of-type {\n",
       "        vertical-align: middle;\n",
       "    }\n",
       "\n",
       "    .dataframe tbody tr th {\n",
       "        vertical-align: top;\n",
       "    }\n",
       "\n",
       "    .dataframe thead th {\n",
       "        text-align: right;\n",
       "    }\n",
       "</style>\n",
       "<table border=\"1\" class=\"dataframe\">\n",
       "  <thead>\n",
       "    <tr style=\"text-align: right;\">\n",
       "      <th></th>\n",
       "      <th>DepDelay</th>\n",
       "    </tr>\n",
       "    <tr>\n",
       "      <th>Reporting_Airline</th>\n",
       "      <th></th>\n",
       "    </tr>\n",
       "  </thead>\n",
       "  <tbody>\n",
       "    <tr>\n",
       "      <th>9E</th>\n",
       "      <td>99</td>\n",
       "    </tr>\n",
       "    <tr>\n",
       "      <th>AA</th>\n",
       "      <td>2997</td>\n",
       "    </tr>\n",
       "    <tr>\n",
       "      <th>AS</th>\n",
       "      <td>128</td>\n",
       "    </tr>\n",
       "    <tr>\n",
       "      <th>B6</th>\n",
       "      <td>87</td>\n",
       "    </tr>\n",
       "    <tr>\n",
       "      <th>DL</th>\n",
       "      <td>341</td>\n",
       "    </tr>\n",
       "    <tr>\n",
       "      <th>EV</th>\n",
       "      <td>548</td>\n",
       "    </tr>\n",
       "    <tr>\n",
       "      <th>F9</th>\n",
       "      <td>149</td>\n",
       "    </tr>\n",
       "    <tr>\n",
       "      <th>MQ</th>\n",
       "      <td>2918</td>\n",
       "    </tr>\n",
       "    <tr>\n",
       "      <th>NK</th>\n",
       "      <td>567</td>\n",
       "    </tr>\n",
       "    <tr>\n",
       "      <th>OH</th>\n",
       "      <td>75</td>\n",
       "    </tr>\n",
       "    <tr>\n",
       "      <th>OO</th>\n",
       "      <td>3160</td>\n",
       "    </tr>\n",
       "    <tr>\n",
       "      <th>UA</th>\n",
       "      <td>3587</td>\n",
       "    </tr>\n",
       "    <tr>\n",
       "      <th>VX</th>\n",
       "      <td>44</td>\n",
       "    </tr>\n",
       "    <tr>\n",
       "      <th>YX</th>\n",
       "      <td>958</td>\n",
       "    </tr>\n",
       "  </tbody>\n",
       "</table>\n",
       "</div>"
      ],
      "text/plain": [
       "                   DepDelay\n",
       "Reporting_Airline          \n",
       "9E                       99\n",
       "AA                     2997\n",
       "AS                      128\n",
       "B6                       87\n",
       "DL                      341\n",
       "EV                      548\n",
       "F9                      149\n",
       "MQ                     2918\n",
       "NK                      567\n",
       "OH                       75\n",
       "OO                     3160\n",
       "UA                     3587\n",
       "VX                       44\n",
       "YX                      958"
      ]
     },
     "execution_count": 33,
     "metadata": {},
     "output_type": "execute_result"
    }
   ],
   "source": [
    "early_dep.groupby('Reporting_Airline').count()[['DepDelay']]"
   ]
  },
  {
   "cell_type": "code",
   "execution_count": null,
   "metadata": {},
   "outputs": [],
   "source": []
  }
 ],
 "metadata": {
  "kernelspec": {
   "display_name": "Python3 OSX",
   "language": "python",
   "name": "base"
  },
  "language_info": {
   "codemirror_mode": {
    "name": "ipython",
    "version": 3
   },
   "file_extension": ".py",
   "mimetype": "text/x-python",
   "name": "python",
   "nbconvert_exporter": "python",
   "pygments_lexer": "ipython3",
   "version": "3.7.1"
  },
  "toc": {
   "base_numbering": 1,
   "nav_menu": {},
   "number_sections": true,
   "sideBar": true,
   "skip_h1_title": false,
   "title_cell": "Table of Contents",
   "title_sidebar": "Contents",
   "toc_cell": false,
   "toc_position": {},
   "toc_section_display": true,
   "toc_window_display": false
  },
  "varInspector": {
   "cols": {
    "lenName": 16,
    "lenType": 16,
    "lenVar": 40
   },
   "kernels_config": {
    "python": {
     "delete_cmd_postfix": "",
     "delete_cmd_prefix": "del ",
     "library": "var_list.py",
     "varRefreshCmd": "print(var_dic_list())"
    },
    "r": {
     "delete_cmd_postfix": ") ",
     "delete_cmd_prefix": "rm(",
     "library": "var_list.r",
     "varRefreshCmd": "cat(var_dic_list()) "
    }
   },
   "types_to_exclude": [
    "module",
    "function",
    "builtin_function_or_method",
    "instance",
    "_Feature"
   ],
   "window_display": false
  }
 },
 "nbformat": 4,
 "nbformat_minor": 2
}
