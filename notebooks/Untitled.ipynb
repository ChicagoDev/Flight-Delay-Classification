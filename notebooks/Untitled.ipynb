{
 "cells": [
  {
   "cell_type": "code",
   "execution_count": 3,
   "metadata": {},
   "outputs": [],
   "source": [
    "import numpy as np\n",
    "import pandas as pd\n",
    "import matplotlib.pyplot as plt\n",
    "from sklearn.model_selection import train_test_split\n",
    "from collections import defaultdict\n",
    "\n",
    "\n",
    "class Ohare(object):\n",
    "\t\"\"\"\n",
    "\tfaa = OrdUtils()\n",
    "\n",
    "\tfaa.get_ob_delays()\n",
    "\n",
    "\tfaa.get_ib_delays()\n",
    "\n",
    "\tfaa.get_baselines()\n",
    "\n",
    "\tfaa.get_mini_ob_flights()\n",
    "\t\"\"\"\n",
    "\t\n",
    "\tregions = {'SE': ['ATL', 'DFW'],\n",
    "\t           'SW': ['LAX', 'LAS'],\n",
    "\t           'NW': ['SFO', 'DEN'],\n",
    "\t           'NE': ['JFK', 'EWR']\n",
    "\t           }\n",
    "\t\n",
    "\tdef __init__(self):\n",
    "\t\t\n",
    "\t\tself.ord_flights = pd.read_csv('../data/ohare/01_2018_ORD_AIR_TFFX.csv', low_memory=False)\n",
    "\t\t\n",
    "\t\t# Split the data between inbound and outbound flights\n",
    "\t\tmask_from_ord = self.ord_flights.Origin == 'ORD'\n",
    "\t\tmask_to_ord = self.ord_flights.Origin != 'ORD'\n",
    "\t\tself.flights_from_ohare = self.ord_flights[mask_from_ord]\n",
    "\t\tself.flights_to_ohare = self.ord_flights[mask_to_ord]\n",
    "\t\t\n",
    "\t\tself.baselines = self.get_baselines()\n",
    "\t\n",
    "\tdef get_baselines(self):\n",
    "\t\tob_del = self.flights_from_ohare.DepDelayMinutes.mean()\n",
    "\t\tib_del = self.flights_to_ohare.DepDelayMinutes.mean()\n",
    "\t\t\n",
    "\t\tob_taxi_del = self.flights_from_ohare.TaxiOut.max()\n",
    "\t\tib_taxi_del = self.flights_to_ohare.TaxiOut.max()\n",
    "\t\t\n",
    "\t\t# ALL OHARE TRAFFIC\n",
    "\t\treturn {\n",
    "\t\t\t\n",
    "\t\t\t'ob_del':     ob_del,\n",
    "\t\t\t'ib_del':     ib_del,\n",
    "\t\t\t'ob_taxi_tm': ob_taxi_del,\n",
    "\t\t\t'ib_taxi_tm': ib_taxi_del\n",
    "\t\t}\n",
    "\t\n",
    "\tdef get_ports(self, port, column_name, df):\n",
    "\t\t\"\"\"Filters a DF on a given airport. Convenience Method\"\"\"\n",
    "\t\tmask = (df[column_name] == port)\n",
    "\t\treturn df[mask]\n",
    "\t\n",
    "\tdef get_ib_delays(self, as_df=True):\n",
    "\t\t\"\"\"For flights that are arriving to O'hare, how long are the delays?\"\"\"\n",
    "\t\tohare_ib_delays = defaultdict(float)\n",
    "\t\t\n",
    "\t\tfor reg, airports in self.regions.items():\n",
    "\t\t\t\n",
    "\t\t\tfor port in airports:\n",
    "\t\t\t\tohare_ib_delays[port] = self.get_ports(port, 'Origin', self.flights_to_ohare).DepDelayMinutes.mean()\n",
    "\t\t\n",
    "\t\tohare_ib_delays['ORD_AVG'] = self.baselines['ib_del']\n",
    "\t\t\n",
    "\t\tif not as_df:\n",
    "\t\t\treturn ohare_ib_delays\n",
    "\t\telse:\n",
    "\t\t\treturn pd.DataFrame(ohare_ib_delays, index=[0])\n",
    "\t\n",
    "\tdef get_ob_delays(self, as_df=True):\n",
    "\t\t\"\"\"For flights that are leaving from O'hare, how long are the delays?\"\"\"\n",
    "\t\t\n",
    "\t\tohare_outb_delays = defaultdict(float)\n",
    "\t\t\n",
    "\t\tfor reg, airports in self.regions.items():\n",
    "\t\t\t\n",
    "\t\t\tfor port in airports:\n",
    "\t\t\t\tohare_outb_delays[port] = self.get_ports(port, 'Dest', self.flights_from_ohare).DepDelayMinutes.mean()\n",
    "\t\t\n",
    "\t\tohare_outb_delays['ORD_AVG'] = self.baselines['ob_del']\n",
    "\t\t\n",
    "\t\tif not as_df:\n",
    "\t\t\treturn ohare_outb_delays\n",
    "\t\telse:\n",
    "\t\t\treturn pd.DataFrame(ohare_outb_delays, index=[0])\n",
    "\t\n",
    "\tdef get_mini_ob_flights(self):\n",
    "\t\treturn self.flights_from_ohare[['DepDelay', 'Reporting_Airline', 'Dest', 'ArrDelay', 'Quarter', 'DayOfWeek']]\n"
   ]
  },
  {
   "cell_type": "code",
   "execution_count": 4,
   "metadata": {},
   "outputs": [],
   "source": [
    "faa = Ohare()"
   ]
  },
  {
   "cell_type": "code",
   "execution_count": 6,
   "metadata": {},
   "outputs": [
    {
     "data": {
      "text/html": [
       "<div>\n",
       "<style scoped>\n",
       "    .dataframe tbody tr th:only-of-type {\n",
       "        vertical-align: middle;\n",
       "    }\n",
       "\n",
       "    .dataframe tbody tr th {\n",
       "        vertical-align: top;\n",
       "    }\n",
       "\n",
       "    .dataframe thead th {\n",
       "        text-align: right;\n",
       "    }\n",
       "</style>\n",
       "<table border=\"1\" class=\"dataframe\">\n",
       "  <thead>\n",
       "    <tr style=\"text-align: right;\">\n",
       "      <th></th>\n",
       "      <th>DepDelay</th>\n",
       "      <th>Reporting_Airline</th>\n",
       "      <th>Dest</th>\n",
       "      <th>ArrDelay</th>\n",
       "      <th>Quarter</th>\n",
       "      <th>DayOfWeek</th>\n",
       "    </tr>\n",
       "  </thead>\n",
       "  <tbody>\n",
       "    <tr>\n",
       "      <th>10</th>\n",
       "      <td>-3.0</td>\n",
       "      <td>UA</td>\n",
       "      <td>SFO</td>\n",
       "      <td>-5.0</td>\n",
       "      <td>1</td>\n",
       "      <td>6</td>\n",
       "    </tr>\n",
       "    <tr>\n",
       "      <th>13</th>\n",
       "      <td>-2.0</td>\n",
       "      <td>UA</td>\n",
       "      <td>BWI</td>\n",
       "      <td>-12.0</td>\n",
       "      <td>1</td>\n",
       "      <td>6</td>\n",
       "    </tr>\n",
       "    <tr>\n",
       "      <th>15</th>\n",
       "      <td>-6.0</td>\n",
       "      <td>UA</td>\n",
       "      <td>CVG</td>\n",
       "      <td>-16.0</td>\n",
       "      <td>1</td>\n",
       "      <td>6</td>\n",
       "    </tr>\n",
       "    <tr>\n",
       "      <th>19</th>\n",
       "      <td>5.0</td>\n",
       "      <td>UA</td>\n",
       "      <td>DEN</td>\n",
       "      <td>-12.0</td>\n",
       "      <td>1</td>\n",
       "      <td>6</td>\n",
       "    </tr>\n",
       "    <tr>\n",
       "      <th>23</th>\n",
       "      <td>-2.0</td>\n",
       "      <td>UA</td>\n",
       "      <td>TPA</td>\n",
       "      <td>-12.0</td>\n",
       "      <td>1</td>\n",
       "      <td>6</td>\n",
       "    </tr>\n",
       "  </tbody>\n",
       "</table>\n",
       "</div>"
      ],
      "text/plain": [
       "    DepDelay Reporting_Airline Dest  ArrDelay  Quarter  DayOfWeek\n",
       "10      -3.0                UA  SFO      -5.0        1          6\n",
       "13      -2.0                UA  BWI     -12.0        1          6\n",
       "15      -6.0                UA  CVG     -16.0        1          6\n",
       "19       5.0                UA  DEN     -12.0        1          6\n",
       "23      -2.0                UA  TPA     -12.0        1          6"
      ]
     },
     "execution_count": 6,
     "metadata": {},
     "output_type": "execute_result"
    }
   ],
   "source": [
    "faa.get_mini_ob_flights().head()"
   ]
  },
  {
   "cell_type": "code",
   "execution_count": 8,
   "metadata": {},
   "outputs": [],
   "source": [
    "ob_flights = faa.get_mini_ob_flights()\n",
    "\n",
    "ob_flights = ob_flights.reset_index()\n",
    "\n",
    "ob_flights = ob_flights.drop(labels='index', axis=1)\n",
    "\n",
    "ob_flights_dum_al = ob_flights.merge(pd.get_dummies(ob_flights['Reporting_Airline']), left_index=True, right_index=True)\n",
    "\n",
    "ob_flts_all_dms = ob_flights_dum_al.merge(pd.get_dummies(ob_flights_dum_al['Dest']), left_index=True, right_index=True)"
   ]
  },
  {
   "cell_type": "code",
   "execution_count": 22,
   "metadata": {},
   "outputs": [],
   "source": [
    "ob_flts_all_dms = ob_flts_all_dms.dropna()"
   ]
  },
  {
   "cell_type": "code",
   "execution_count": 23,
   "metadata": {},
   "outputs": [],
   "source": [
    "from sklearn.model_selection import train_test_split"
   ]
  },
  {
   "cell_type": "code",
   "execution_count": 24,
   "metadata": {},
   "outputs": [],
   "source": [
    "y = ob_flts_all_dms['DepDelay']"
   ]
  },
  {
   "cell_type": "code",
   "execution_count": 26,
   "metadata": {},
   "outputs": [],
   "source": [
    "X = ob_flts_all_dms.loc[:,'ArrDelay':]"
   ]
  },
  {
   "cell_type": "code",
   "execution_count": 28,
   "metadata": {},
   "outputs": [],
   "source": [
    "X_train, X_test, y_train, y_test = train_test_split(X, y, test_size = .2, random_state=51)"
   ]
  },
  {
   "cell_type": "code",
   "execution_count": 31,
   "metadata": {},
   "outputs": [
    {
     "data": {
      "text/plain": [
       "13.145062962222667"
      ]
     },
     "execution_count": 31,
     "metadata": {},
     "output_type": "execute_result"
    }
   ],
   "source": [
    "average_delay_trn = np.mean(y_train)\n",
    "np.mean(y_train)"
   ]
  },
  {
   "cell_type": "code",
   "execution_count": 40,
   "metadata": {},
   "outputs": [
    {
     "data": {
      "text/plain": [
       "23.54456951627624"
      ]
     },
     "execution_count": 40,
     "metadata": {},
     "output_type": "execute_result"
    }
   ],
   "source": [
    "np.mean(y_train[X_train.DayOfWeek == 1])"
   ]
  },
  {
   "cell_type": "code",
   "execution_count": 42,
   "metadata": {},
   "outputs": [
    {
     "name": "stdout",
     "output_type": "stream",
     "text": [
      "The average delay for day of the week: 1, is 23.54456951627624.\n",
      "The average delay for day of the week: 2, is 12.936670687575392.\n",
      "The average delay for day of the week: 3, is 10.183932346723044.\n",
      "The average delay for day of the week: 4, is 6.304249717939075.\n",
      "The average delay for day of the week: 5, is 13.513365067740754.\n",
      "The average delay for day of the week: 6, is 7.469704086425552.\n",
      "The average delay for day of the week: 7, is 15.30825901512214.\n"
     ]
    }
   ],
   "source": [
    "for i in range (1, 8):\n",
    "    print (f'The average delay for day of the week: {i}, is {np.mean(y_train[X_train.DayOfWeek == i])}.')\n"
   ]
  },
  {
   "cell_type": "code",
   "execution_count": null,
   "metadata": {},
   "outputs": [],
   "source": []
  }
 ],
 "metadata": {
  "kernelspec": {
   "display_name": "Python3 OSX",
   "language": "python",
   "name": "base"
  },
  "language_info": {
   "codemirror_mode": {
    "name": "ipython",
    "version": 3
   },
   "file_extension": ".py",
   "mimetype": "text/x-python",
   "name": "python",
   "nbconvert_exporter": "python",
   "pygments_lexer": "ipython3",
   "version": "3.7.1"
  },
  "toc": {
   "base_numbering": 1,
   "nav_menu": {},
   "number_sections": true,
   "sideBar": true,
   "skip_h1_title": false,
   "title_cell": "Table of Contents",
   "title_sidebar": "Contents",
   "toc_cell": false,
   "toc_position": {},
   "toc_section_display": true,
   "toc_window_display": false
  },
  "varInspector": {
   "cols": {
    "lenName": 16,
    "lenType": 16,
    "lenVar": 40
   },
   "kernels_config": {
    "python": {
     "delete_cmd_postfix": "",
     "delete_cmd_prefix": "del ",
     "library": "var_list.py",
     "varRefreshCmd": "print(var_dic_list())"
    },
    "r": {
     "delete_cmd_postfix": ") ",
     "delete_cmd_prefix": "rm(",
     "library": "var_list.r",
     "varRefreshCmd": "cat(var_dic_list()) "
    }
   },
   "types_to_exclude": [
    "module",
    "function",
    "builtin_function_or_method",
    "instance",
    "_Feature"
   ],
   "window_display": false
  }
 },
 "nbformat": 4,
 "nbformat_minor": 2
}
