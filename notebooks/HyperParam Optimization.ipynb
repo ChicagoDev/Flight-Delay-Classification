{
 "cells": [
  {
   "cell_type": "code",
   "execution_count": 68,
   "metadata": {},
   "outputs": [],
   "source": [
    "import os\n",
    "import sys\n",
    "module_path = os.path.abspath(os.path.join('..'))\n",
    "if module_path not in sys.path:\n",
    "    sys.path.append(module_path)\n",
    "import pandas as pd\n",
    "\n",
    "from FAA import Ohare\n",
    "from FAA import Hanger\n",
    "from FAA.model_airplanes import AirportModels\n",
    "\n",
    "from sklearn.metrics import *\n",
    "def print_metrics(y_true, y_prediction):\n",
    "    f1 = f1_score(y_true,y_prediction)\n",
    "    presc = precision_score(y_true, y_prediction)\n",
    "    auc = roc_auc_score(y_true, y_prediction)\n",
    "    recl = recall_score(y_true, y_prediction)\n",
    "    \n",
    "    print(f'The F1 Score is: {f1}\\n The Precision score is: {presc}\\n The Recall Score is: {recl} \\n The AUC score is {auc}'\n",
    "         )\n",
    "    print (confusion_matrix(y_true, y_prediction, labels=[True, False]))\n",
    "\n",
    "#no_write\n",
    "faa = Ohare.Ohare(table_name='ord_w_wthr', sql=True\\\n",
    "                  , sql_user='ubuntu', host_name='18.188.180.59')\n",
    "db = faa.get_modeling_df()\n",
    "db.head()\n",
    "\n",
    "modeling = AirportModels(db)\n",
    "\n",
    "from sklearn.model_selection import GridSearchCV\n",
    "\n",
    "\n",
    "grid_search = GridSearchCV(modeling.rf, {'n_estimators': [100, 500, 1000]\n",
    "                                        ,'max_depth': [5]\n",
    "                                        ,'criterion': ['gini', 'entropy']\n",
    "                                        ,'max_features': ['auto', 'log2']\n",
    "                                        ,'n_jobs': [-1]\n",
    "                                        ,'random_state': 51\n",
    "                                        })\n",
    "y = db.Was_Delayed\n",
    "X = db.drop(columns=['Was_Delayed'])\n",
    "\n",
    "grid_search.fit(X,y)\n",
    "\n",
    "sorted(grid_search.cv_results_.keys())\n",
    "\n",
    "grid_search.cv_results_\n",
    "\n",
    "grid_search.best_score_\n",
    "\n",
    "grid_search.best_params_"
   ]
  },
  {
   "cell_type": "code",
   "execution_count": 70,
   "metadata": {},
   "outputs": [
    {
     "data": {
      "text/plain": [
       "0.6691678361241119"
      ]
     },
     "execution_count": 70,
     "metadata": {},
     "output_type": "execute_result"
    }
   ],
   "source": [
    "grid_search.best_score_"
   ]
  },
  {
   "cell_type": "code",
   "execution_count": null,
   "metadata": {},
   "outputs": [],
   "source": []
  }
 ],
 "metadata": {
  "kernelspec": {
   "display_name": "Python3 OSX",
   "language": "python",
   "name": "base"
  },
  "language_info": {
   "codemirror_mode": {
    "name": "ipython",
    "version": 3
   },
   "file_extension": ".py",
   "mimetype": "text/x-python",
   "name": "python",
   "nbconvert_exporter": "python",
   "pygments_lexer": "ipython3",
   "version": "3.7.1"
  },
  "toc": {
   "base_numbering": 1,
   "nav_menu": {},
   "number_sections": true,
   "sideBar": true,
   "skip_h1_title": false,
   "title_cell": "Table of Contents",
   "title_sidebar": "Contents",
   "toc_cell": false,
   "toc_position": {},
   "toc_section_display": true,
   "toc_window_display": false
  },
  "varInspector": {
   "cols": {
    "lenName": 16,
    "lenType": 16,
    "lenVar": 40
   },
   "kernels_config": {
    "python": {
     "delete_cmd_postfix": "",
     "delete_cmd_prefix": "del ",
     "library": "var_list.py",
     "varRefreshCmd": "print(var_dic_list())"
    },
    "r": {
     "delete_cmd_postfix": ") ",
     "delete_cmd_prefix": "rm(",
     "library": "var_list.r",
     "varRefreshCmd": "cat(var_dic_list()) "
    }
   },
   "types_to_exclude": [
    "module",
    "function",
    "builtin_function_or_method",
    "instance",
    "_Feature"
   ],
   "window_display": false
  }
 },
 "nbformat": 4,
 "nbformat_minor": 2
}
