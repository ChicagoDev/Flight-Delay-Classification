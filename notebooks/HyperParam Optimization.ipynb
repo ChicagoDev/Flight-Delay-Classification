{
 "cells": [
  {
   "cell_type": "code",
   "execution_count": 2,
   "metadata": {},
   "outputs": [
    {
     "name": "stderr",
     "output_type": "stream",
     "text": [
      "/anaconda3/lib/python3.7/site-packages/sklearn/preprocessing/data.py:625: DataConversionWarning: Data with input dtype uint8, int64, float64 were all converted to float64 by StandardScaler.\n",
      "  return self.partial_fit(X, y)\n",
      "/Users/bjg/Metis/Projects/McNulty/FlightOnTime/FAA/model_airplanes.py:29: DataConversionWarning: Data with input dtype uint8, int64, float64 were all converted to float64 by StandardScaler.\n",
      "  self.x_train_test_scaled = scaler.transform(self.X_traintest)\n"
     ]
    }
   ],
   "source": [
    "import os\n",
    "import sys\n",
    "module_path = os.path.abspath(os.path.join('..'))\n",
    "if module_path not in sys.path:\n",
    "    sys.path.append(module_path)\n",
    "import pandas as pd\n",
    "\n",
    "from FAA import Ohare\n",
    "from FAA import Hanger\n",
    "from FAA.model_airplanes import AirportModels\n",
    "from sklearn.metrics import *\n",
    "from sklearn.model_selection import GridSearchCV\n",
    "\n",
    "def print_metrics(y_true, y_prediction):\n",
    "    f1 = f1_score(y_true,y_prediction)\n",
    "    presc = precision_score(y_true, y_prediction)\n",
    "    auc = roc_auc_score(y_true, y_prediction)\n",
    "    recl = recall_score(y_true, y_prediction)\n",
    "    \n",
    "    print(f'The F1 Score is: {f1}\\n The Precision score is: {presc}\\n The Recall Score is: {recl} \\n The AUC score is {auc}'\n",
    "         )\n",
    "    print (confusion_matrix(y_true, y_prediction, labels=[True, False]))\n",
    "\n",
    "#no_write\n",
    "faa = Ohare.Ohare(table_name='ord_w_wthr', sql=True\\\n",
    "                  , sql_user='ubuntu', host_name='18.188.180.59')\n",
    "\n",
    "\n",
    "\n",
    "#grid_search = GridSearchCV(modeling.rf, {'n_estimators': [12, 50]\n",
    "                                        #,'max_depth': [5]\n",
    "                                        #,'criterion': ['gini', 'entropy']\n",
    "                                        #,'max_features': ['auto', 'log2']\n",
    "                                        #,'n_jobs': [-1]\n",
    "                                        #,'random_state': 51\n",
    "                                        #})\n",
    "\n",
    "\n",
    "db = faa.get_modeling_df()\n",
    "modeling = AirportModels(db)\n",
    "\n",
    "\n",
    "X, y = modeling.get_training_setsXY()\n",
    "\n",
    "#grid_search.fit(X,y)\n",
    "\n",
    "\n",
    "\n",
    "#print('GRID SEARCH RESULTS')\n",
    "#print(grid_search.cv_results_)\n",
    "\n",
    "#print('#################################################')\n",
    "#print('BEST SCORE')\n",
    "#print(grid_search.best_score_)\n",
    "\n",
    "\n",
    "#print('#################################################')\n",
    "#print('BEST PARAMETERS')\n",
    "#print(grid_search.best_params_)"
   ]
  },
  {
   "cell_type": "code",
   "execution_count": 70,
   "metadata": {},
   "outputs": [
    {
     "data": {
      "text/plain": [
       "0.6691678361241119"
      ]
     },
     "execution_count": 70,
     "metadata": {},
     "output_type": "execute_result"
    }
   ],
   "source": [
    "grid_search.best_score_"
   ]
  },
  {
   "cell_type": "code",
   "execution_count": 5,
   "metadata": {},
   "outputs": [],
   "source": [
    "from sklearn.ensemble import RandomForestClassifier\n",
    "rf = RandomForestClassifier(criterion='entropy', max_depth=20, n_estimators=50, n_jobs=-1, random_state=51)"
   ]
  },
  {
   "cell_type": "code",
   "execution_count": 6,
   "metadata": {},
   "outputs": [
    {
     "data": {
      "text/plain": [
       "RandomForestClassifier(bootstrap=True, class_weight=None, criterion='entropy',\n",
       "            max_depth=20, max_features='auto', max_leaf_nodes=None,\n",
       "            min_impurity_decrease=0.0, min_impurity_split=None,\n",
       "            min_samples_leaf=1, min_samples_split=2,\n",
       "            min_weight_fraction_leaf=0.0, n_estimators=50, n_jobs=-1,\n",
       "            oob_score=False, random_state=51, verbose=0, warm_start=False)"
      ]
     },
     "execution_count": 6,
     "metadata": {},
     "output_type": "execute_result"
    }
   ],
   "source": [
    "rf.fit(X,y)"
   ]
  },
  {
   "cell_type": "code",
   "execution_count": 9,
   "metadata": {},
   "outputs": [
    {
     "data": {
      "text/plain": [
       "0.7054085578097591"
      ]
     },
     "execution_count": 9,
     "metadata": {},
     "output_type": "execute_result"
    }
   ],
   "source": [
    "Xho, yho = modeling.get_holdout_setsXY()\n",
    "rf.score(Xho,yho)"
   ]
  },
  {
   "cell_type": "code",
   "execution_count": 10,
   "metadata": {},
   "outputs": [
    {
     "name": "stdout",
     "output_type": "stream",
     "text": [
      "The F1 Score is: 0.4143936904370687\n",
      " The Precision score is: 0.6191489361702127\n",
      " The Recall Score is: 0.3114092854790912 \n",
      " The AUC score is 0.607519272980162\n",
      "[[11349 25095]\n",
      " [ 6981 65458]]\n"
     ]
    }
   ],
   "source": [
    "print_metrics(yho, rf.predict(Xho))"
   ]
  },
  {
   "cell_type": "code",
   "execution_count": 11,
   "metadata": {},
   "outputs": [],
   "source": [
    "# Not great, Grid search Logistic Regression, then work on oversampling"
   ]
  },
  {
   "cell_type": "code",
   "execution_count": 16,
   "metadata": {},
   "outputs": [
    {
     "name": "stdout",
     "output_type": "stream",
     "text": [
      "('Quarter', 0.013471996605268655)\n",
      "('Month', 0.04299913353352867)\n",
      "('DayOfWeek', 0.05121562958577115)\n",
      "('Distance', 0.42694686999018494)\n",
      "('awnd', 0.08771015519063115)\n",
      "('prcp', 0.08148957456016742)\n",
      "('snow', 0.014341881986114559)\n",
      "('snwd', 0.01092246123360941)\n",
      "('tavg', 0.1006090758198181)\n",
      "('9E', 0.00156247249813373)\n",
      "('AA', 0.017486951248437178)\n",
      "('AS', 0.002911896887813929)\n",
      "('B6', 0.004930755339348239)\n",
      "('DL', 0.00715956022101108)\n",
      "('EV', 0.007141796952651285)\n",
      "('F9', 0.0034973306024604174)\n",
      "('MQ', 0.008256001305906131)\n",
      "('NK', 0.006446024645928333)\n",
      "('OH', 0.0019611735303693817)\n",
      "('OO', 0.010286106110122501)\n",
      "('UA', 0.011802192205344286)\n",
      "('VX', 0.0016109383305455804)\n",
      "('YX', 0.005522772903663569)\n",
      "('DepTime_early_am', 0.014479212030104998)\n",
      "('DepTime_early_pm', 0.014871589693322234)\n",
      "('DepTime_late_am', 0.02931131147703701)\n",
      "('DepTime_late_pm', 0.021055135512705988)\n"
     ]
    }
   ],
   "source": [
    "for i in zip(Xho.columns, rf.feature_importances_):\n",
    "    print(i)"
   ]
  },
  {
   "cell_type": "code",
   "execution_count": null,
   "metadata": {},
   "outputs": [],
   "source": []
  }
 ],
 "metadata": {
  "kernelspec": {
   "display_name": "Python3 OSX",
   "language": "python",
   "name": "base"
  },
  "language_info": {
   "codemirror_mode": {
    "name": "ipython",
    "version": 3
   },
   "file_extension": ".py",
   "mimetype": "text/x-python",
   "name": "python",
   "nbconvert_exporter": "python",
   "pygments_lexer": "ipython3",
   "version": "3.7.1"
  },
  "toc": {
   "base_numbering": 1,
   "nav_menu": {},
   "number_sections": true,
   "sideBar": true,
   "skip_h1_title": false,
   "title_cell": "Table of Contents",
   "title_sidebar": "Contents",
   "toc_cell": false,
   "toc_position": {},
   "toc_section_display": true,
   "toc_window_display": false
  },
  "varInspector": {
   "cols": {
    "lenName": 16,
    "lenType": 16,
    "lenVar": 40
   },
   "kernels_config": {
    "python": {
     "delete_cmd_postfix": "",
     "delete_cmd_prefix": "del ",
     "library": "var_list.py",
     "varRefreshCmd": "print(var_dic_list())"
    },
    "r": {
     "delete_cmd_postfix": ") ",
     "delete_cmd_prefix": "rm(",
     "library": "var_list.r",
     "varRefreshCmd": "cat(var_dic_list()) "
    }
   },
   "types_to_exclude": [
    "module",
    "function",
    "builtin_function_or_method",
    "instance",
    "_Feature"
   ],
   "window_display": false
  }
 },
 "nbformat": 4,
 "nbformat_minor": 2
}
