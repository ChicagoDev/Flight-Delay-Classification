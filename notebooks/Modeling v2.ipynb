{
 "cells": [
  {
   "cell_type": "code",
   "execution_count": 4,
   "metadata": {},
   "outputs": [
    {
     "data": {
      "text/html": [
       "<div>\n",
       "<style scoped>\n",
       "    .dataframe tbody tr th:only-of-type {\n",
       "        vertical-align: middle;\n",
       "    }\n",
       "\n",
       "    .dataframe tbody tr th {\n",
       "        vertical-align: top;\n",
       "    }\n",
       "\n",
       "    .dataframe thead th {\n",
       "        text-align: right;\n",
       "    }\n",
       "</style>\n",
       "<table border=\"1\" class=\"dataframe\">\n",
       "  <thead>\n",
       "    <tr style=\"text-align: right;\">\n",
       "      <th></th>\n",
       "      <th>Quarter</th>\n",
       "      <th>Month</th>\n",
       "      <th>DayOfWeek</th>\n",
       "      <th>Distance</th>\n",
       "      <th>awnd</th>\n",
       "      <th>prcp</th>\n",
       "      <th>snow</th>\n",
       "      <th>snwd</th>\n",
       "      <th>tavg</th>\n",
       "      <th>9E</th>\n",
       "      <th>...</th>\n",
       "      <th>OH</th>\n",
       "      <th>OO</th>\n",
       "      <th>UA</th>\n",
       "      <th>VX</th>\n",
       "      <th>YX</th>\n",
       "      <th>DepTime_early_am</th>\n",
       "      <th>DepTime_early_pm</th>\n",
       "      <th>DepTime_late_am</th>\n",
       "      <th>DepTime_late_pm</th>\n",
       "      <th>Was_Delayed</th>\n",
       "    </tr>\n",
       "  </thead>\n",
       "  <tbody>\n",
       "    <tr>\n",
       "      <th>0</th>\n",
       "      <td>1</td>\n",
       "      <td>2</td>\n",
       "      <td>2</td>\n",
       "      <td>733.0</td>\n",
       "      <td>13.87</td>\n",
       "      <td>0.0</td>\n",
       "      <td>0.0</td>\n",
       "      <td>0.0</td>\n",
       "      <td>48</td>\n",
       "      <td>0</td>\n",
       "      <td>...</td>\n",
       "      <td>0</td>\n",
       "      <td>1</td>\n",
       "      <td>0</td>\n",
       "      <td>0</td>\n",
       "      <td>0</td>\n",
       "      <td>0</td>\n",
       "      <td>1</td>\n",
       "      <td>0</td>\n",
       "      <td>0</td>\n",
       "      <td>False</td>\n",
       "    </tr>\n",
       "    <tr>\n",
       "      <th>3</th>\n",
       "      <td>1</td>\n",
       "      <td>2</td>\n",
       "      <td>2</td>\n",
       "      <td>474.0</td>\n",
       "      <td>13.87</td>\n",
       "      <td>0.0</td>\n",
       "      <td>0.0</td>\n",
       "      <td>0.0</td>\n",
       "      <td>48</td>\n",
       "      <td>0</td>\n",
       "      <td>...</td>\n",
       "      <td>0</td>\n",
       "      <td>1</td>\n",
       "      <td>0</td>\n",
       "      <td>0</td>\n",
       "      <td>0</td>\n",
       "      <td>0</td>\n",
       "      <td>1</td>\n",
       "      <td>0</td>\n",
       "      <td>0</td>\n",
       "      <td>False</td>\n",
       "    </tr>\n",
       "    <tr>\n",
       "      <th>5</th>\n",
       "      <td>1</td>\n",
       "      <td>2</td>\n",
       "      <td>2</td>\n",
       "      <td>733.0</td>\n",
       "      <td>13.87</td>\n",
       "      <td>0.0</td>\n",
       "      <td>0.0</td>\n",
       "      <td>0.0</td>\n",
       "      <td>48</td>\n",
       "      <td>0</td>\n",
       "      <td>...</td>\n",
       "      <td>0</td>\n",
       "      <td>1</td>\n",
       "      <td>0</td>\n",
       "      <td>0</td>\n",
       "      <td>0</td>\n",
       "      <td>0</td>\n",
       "      <td>0</td>\n",
       "      <td>1</td>\n",
       "      <td>0</td>\n",
       "      <td>False</td>\n",
       "    </tr>\n",
       "    <tr>\n",
       "      <th>8</th>\n",
       "      <td>1</td>\n",
       "      <td>2</td>\n",
       "      <td>2</td>\n",
       "      <td>84.0</td>\n",
       "      <td>13.87</td>\n",
       "      <td>0.0</td>\n",
       "      <td>0.0</td>\n",
       "      <td>0.0</td>\n",
       "      <td>48</td>\n",
       "      <td>0</td>\n",
       "      <td>...</td>\n",
       "      <td>0</td>\n",
       "      <td>1</td>\n",
       "      <td>0</td>\n",
       "      <td>0</td>\n",
       "      <td>0</td>\n",
       "      <td>0</td>\n",
       "      <td>0</td>\n",
       "      <td>0</td>\n",
       "      <td>1</td>\n",
       "      <td>False</td>\n",
       "    </tr>\n",
       "    <tr>\n",
       "      <th>10</th>\n",
       "      <td>1</td>\n",
       "      <td>2</td>\n",
       "      <td>2</td>\n",
       "      <td>911.0</td>\n",
       "      <td>13.87</td>\n",
       "      <td>0.0</td>\n",
       "      <td>0.0</td>\n",
       "      <td>0.0</td>\n",
       "      <td>48</td>\n",
       "      <td>0</td>\n",
       "      <td>...</td>\n",
       "      <td>0</td>\n",
       "      <td>1</td>\n",
       "      <td>0</td>\n",
       "      <td>0</td>\n",
       "      <td>0</td>\n",
       "      <td>0</td>\n",
       "      <td>1</td>\n",
       "      <td>0</td>\n",
       "      <td>0</td>\n",
       "      <td>True</td>\n",
       "    </tr>\n",
       "  </tbody>\n",
       "</table>\n",
       "<p>5 rows × 28 columns</p>\n",
       "</div>"
      ],
      "text/plain": [
       "    Quarter  Month  DayOfWeek  Distance   awnd  prcp  snow  snwd  tavg  9E  \\\n",
       "0         1      2          2     733.0  13.87   0.0   0.0   0.0    48   0   \n",
       "3         1      2          2     474.0  13.87   0.0   0.0   0.0    48   0   \n",
       "5         1      2          2     733.0  13.87   0.0   0.0   0.0    48   0   \n",
       "8         1      2          2      84.0  13.87   0.0   0.0   0.0    48   0   \n",
       "10        1      2          2     911.0  13.87   0.0   0.0   0.0    48   0   \n",
       "\n",
       "       ...       OH  OO  UA  VX  YX  DepTime_early_am  DepTime_early_pm  \\\n",
       "0      ...        0   1   0   0   0                 0                 1   \n",
       "3      ...        0   1   0   0   0                 0                 1   \n",
       "5      ...        0   1   0   0   0                 0                 0   \n",
       "8      ...        0   1   0   0   0                 0                 0   \n",
       "10     ...        0   1   0   0   0                 0                 1   \n",
       "\n",
       "    DepTime_late_am  DepTime_late_pm  Was_Delayed  \n",
       "0                 0                0        False  \n",
       "3                 0                0        False  \n",
       "5                 1                0        False  \n",
       "8                 0                1        False  \n",
       "10                0                0         True  \n",
       "\n",
       "[5 rows x 28 columns]"
      ]
     },
     "execution_count": 4,
     "metadata": {},
     "output_type": "execute_result"
    }
   ],
   "source": [
    "import os\n",
    "import sys\n",
    "module_path = os.path.abspath(os.path.join('..'))\n",
    "if module_path not in sys.path:\n",
    "    sys.path.append(module_path)\n",
    "\n",
    "from FAA import Ohare\n",
    "from FAA import Hanger\n",
    "import pandas as pd\n",
    "\n",
    "faa = Ohare.Ohare(table_name='ord_w_wthr', sql=True\\\n",
    "                  , sql_user='ubuntu', host_name='18.188.180.59')\n",
    "db = faa.get_modeling_df()\n",
    "db.head()"
   ]
  },
  {
   "cell_type": "code",
   "execution_count": 2,
   "metadata": {},
   "outputs": [
    {
     "data": {
      "text/html": [
       "<div>\n",
       "<style scoped>\n",
       "    .dataframe tbody tr th:only-of-type {\n",
       "        vertical-align: middle;\n",
       "    }\n",
       "\n",
       "    .dataframe tbody tr th {\n",
       "        vertical-align: top;\n",
       "    }\n",
       "\n",
       "    .dataframe thead th {\n",
       "        text-align: right;\n",
       "    }\n",
       "</style>\n",
       "<table border=\"1\" class=\"dataframe\">\n",
       "  <thead>\n",
       "    <tr style=\"text-align: right;\">\n",
       "      <th></th>\n",
       "      <th>Quarter</th>\n",
       "      <th>Month</th>\n",
       "      <th>DayOfWeek</th>\n",
       "      <th>Distance</th>\n",
       "      <th>awnd</th>\n",
       "      <th>prcp</th>\n",
       "      <th>snow</th>\n",
       "      <th>snwd</th>\n",
       "      <th>tavg</th>\n",
       "      <th>9E</th>\n",
       "      <th>...</th>\n",
       "      <th>NK</th>\n",
       "      <th>OH</th>\n",
       "      <th>OO</th>\n",
       "      <th>UA</th>\n",
       "      <th>VX</th>\n",
       "      <th>YX</th>\n",
       "      <th>DepTime_early_am</th>\n",
       "      <th>DepTime_early_pm</th>\n",
       "      <th>DepTime_late_am</th>\n",
       "      <th>DepTime_late_pm</th>\n",
       "    </tr>\n",
       "    <tr>\n",
       "      <th>Was_Delayed</th>\n",
       "      <th></th>\n",
       "      <th></th>\n",
       "      <th></th>\n",
       "      <th></th>\n",
       "      <th></th>\n",
       "      <th></th>\n",
       "      <th></th>\n",
       "      <th></th>\n",
       "      <th></th>\n",
       "      <th></th>\n",
       "      <th></th>\n",
       "      <th></th>\n",
       "      <th></th>\n",
       "      <th></th>\n",
       "      <th></th>\n",
       "      <th></th>\n",
       "      <th></th>\n",
       "      <th></th>\n",
       "      <th></th>\n",
       "      <th></th>\n",
       "      <th></th>\n",
       "    </tr>\n",
       "  </thead>\n",
       "  <tbody>\n",
       "    <tr>\n",
       "      <th>False</th>\n",
       "      <td>361852</td>\n",
       "      <td>361852</td>\n",
       "      <td>361852</td>\n",
       "      <td>361852</td>\n",
       "      <td>361852</td>\n",
       "      <td>361852</td>\n",
       "      <td>361852</td>\n",
       "      <td>361852</td>\n",
       "      <td>361852</td>\n",
       "      <td>361852</td>\n",
       "      <td>...</td>\n",
       "      <td>361852</td>\n",
       "      <td>361852</td>\n",
       "      <td>361852</td>\n",
       "      <td>361852</td>\n",
       "      <td>361852</td>\n",
       "      <td>361852</td>\n",
       "      <td>361852</td>\n",
       "      <td>361852</td>\n",
       "      <td>361852</td>\n",
       "      <td>361852</td>\n",
       "    </tr>\n",
       "    <tr>\n",
       "      <th>True</th>\n",
       "      <td>182560</td>\n",
       "      <td>182560</td>\n",
       "      <td>182560</td>\n",
       "      <td>182560</td>\n",
       "      <td>182560</td>\n",
       "      <td>182560</td>\n",
       "      <td>182560</td>\n",
       "      <td>182560</td>\n",
       "      <td>182560</td>\n",
       "      <td>182560</td>\n",
       "      <td>...</td>\n",
       "      <td>182560</td>\n",
       "      <td>182560</td>\n",
       "      <td>182560</td>\n",
       "      <td>182560</td>\n",
       "      <td>182560</td>\n",
       "      <td>182560</td>\n",
       "      <td>182560</td>\n",
       "      <td>182560</td>\n",
       "      <td>182560</td>\n",
       "      <td>182560</td>\n",
       "    </tr>\n",
       "  </tbody>\n",
       "</table>\n",
       "<p>2 rows × 27 columns</p>\n",
       "</div>"
      ],
      "text/plain": [
       "             Quarter   Month  DayOfWeek  Distance    awnd    prcp    snow  \\\n",
       "Was_Delayed                                                                 \n",
       "False         361852  361852     361852    361852  361852  361852  361852   \n",
       "True          182560  182560     182560    182560  182560  182560  182560   \n",
       "\n",
       "               snwd    tavg      9E       ...             NK      OH      OO  \\\n",
       "Was_Delayed                               ...                                  \n",
       "False        361852  361852  361852       ...         361852  361852  361852   \n",
       "True         182560  182560  182560       ...         182560  182560  182560   \n",
       "\n",
       "                 UA      VX      YX  DepTime_early_am  DepTime_early_pm  \\\n",
       "Was_Delayed                                                               \n",
       "False        361852  361852  361852            361852            361852   \n",
       "True         182560  182560  182560            182560            182560   \n",
       "\n",
       "             DepTime_late_am  DepTime_late_pm  \n",
       "Was_Delayed                                    \n",
       "False                 361852           361852  \n",
       "True                  182560           182560  \n",
       "\n",
       "[2 rows x 27 columns]"
      ]
     },
     "execution_count": 2,
     "metadata": {},
     "output_type": "execute_result"
    }
   ],
   "source": [
    "db.groupby(db.Was_Delayed).count()"
   ]
  },
  {
   "cell_type": "code",
   "execution_count": 5,
   "metadata": {},
   "outputs": [],
   "source": [
    "from sklearn.model_selection import train_test_split\n",
    "from sklearn.ensemble import RandomForestClassifier\n",
    "import numpy as np\n",
    "from sklearn.metrics import *"
   ]
  },
  {
   "cell_type": "code",
   "execution_count": 6,
   "metadata": {},
   "outputs": [],
   "source": [
    "y = db.Was_Delayed\n",
    "X = db.drop(columns=['Was_Delayed'])"
   ]
  },
  {
   "cell_type": "code",
   "execution_count": 7,
   "metadata": {},
   "outputs": [],
   "source": [
    "X_traintest, X_holdout, y_traintest, y_holdout = train_test_split(X, y, random_state=51, test_size=.2)"
   ]
  },
  {
   "cell_type": "code",
   "execution_count": 10,
   "metadata": {},
   "outputs": [],
   "source": []
  },
  {
   "cell_type": "markdown",
   "metadata": {},
   "source": [
    "## Random Forest"
   ]
  },
  {
   "cell_type": "code",
   "execution_count": 48,
   "metadata": {},
   "outputs": [],
   "source": [
    "frst = RandomForestClassifier()"
   ]
  },
  {
   "cell_type": "code",
   "execution_count": 49,
   "metadata": {},
   "outputs": [
    {
     "name": "stderr",
     "output_type": "stream",
     "text": [
      "/anaconda3/lib/python3.7/site-packages/sklearn/ensemble/forest.py:246: FutureWarning: The default value of n_estimators will change from 10 in version 0.20 to 100 in 0.22.\n",
      "  \"10 in version 0.20 to 100 in 0.22.\", FutureWarning)\n"
     ]
    },
    {
     "data": {
      "text/plain": [
       "RandomForestClassifier(bootstrap=True, class_weight=None, criterion='gini',\n",
       "            max_depth=None, max_features='auto', max_leaf_nodes=None,\n",
       "            min_impurity_decrease=0.0, min_impurity_split=None,\n",
       "            min_samples_leaf=1, min_samples_split=2,\n",
       "            min_weight_fraction_leaf=0.0, n_estimators=10, n_jobs=None,\n",
       "            oob_score=False, random_state=None, verbose=0,\n",
       "            warm_start=False)"
      ]
     },
     "execution_count": 49,
     "metadata": {},
     "output_type": "execute_result"
    }
   ],
   "source": [
    "frst.fit(X_tr,y_tr)"
   ]
  },
  {
   "cell_type": "code",
   "execution_count": 50,
   "metadata": {},
   "outputs": [
    {
     "data": {
      "text/plain": [
       "0.6542710983349099"
      ]
     },
     "execution_count": 50,
     "metadata": {},
     "output_type": "execute_result"
    }
   ],
   "source": [
    "frst.score(X_val,y_val)"
   ]
  },
  {
   "cell_type": "code",
   "execution_count": 51,
   "metadata": {},
   "outputs": [
    {
     "data": {
      "text/plain": [
       "0.8041409814625687"
      ]
     },
     "execution_count": 51,
     "metadata": {},
     "output_type": "execute_result"
    }
   ],
   "source": [
    "frst.score(X, y)"
   ]
  },
  {
   "cell_type": "code",
   "execution_count": 47,
   "metadata": {},
   "outputs": [
    {
     "data": {
      "text/plain": [
       "0.020658036677454156"
      ]
     },
     "execution_count": 47,
     "metadata": {},
     "output_type": "execute_result"
    }
   ],
   "source": [
    "f1_score(y_val, frst.predict(X_val)) -> With some custom features selected that had the roc curve go up to .66\n",
    "frst = RandomForestClassifier(#max_depth=np.log2(len(db.columns.tolist()))\n",
    "                                                n_jobs=-1\n",
    "                                                ,random_state=51\n",
    "                                                ,min_samples_leaf=50\n",
    "                                                ,max_depth=4  \n",
    "                                            )"
   ]
  },
  {
   "cell_type": "code",
   "execution_count": 52,
   "metadata": {},
   "outputs": [
    {
     "data": {
      "text/plain": [
       "0.44699729697966856"
      ]
     },
     "execution_count": 52,
     "metadata": {},
     "output_type": "execute_result"
    }
   ],
   "source": [
    "f1_score(y_val, frst.predict(X_val))"
   ]
  },
  {
   "cell_type": "code",
   "execution_count": 53,
   "metadata": {},
   "outputs": [
    {
     "data": {
      "text/plain": [
       "0.4833063312049303"
      ]
     },
     "execution_count": 53,
     "metadata": {},
     "output_type": "execute_result"
    }
   ],
   "source": [
    "precision_score(y_val, frst.predict(X_val))"
   ]
  },
  {
   "cell_type": "code",
   "execution_count": null,
   "metadata": {},
   "outputs": [],
   "source": []
  },
  {
   "cell_type": "code",
   "execution_count": 55,
   "metadata": {
    "collapsed": true
   },
   "outputs": [
    {
     "name": "stdout",
     "output_type": "stream",
     "text": [
      "('Quarter', 0.00916522339347238)\n",
      "('Month', 0.03235523146713787)\n",
      "('DayOfWeek', 0.04754666978454768)\n",
      "('Distance', 0.568234609866671)\n",
      "('awnd', 0.09173875024550922)\n",
      "('prcp', 0.04544290567520066)\n",
      "('snow', 0.006812201836613381)\n",
      "('snwd', 0.006134099938468461)\n",
      "('tavg', 0.09118199640351096)\n",
      "('9E', 0.0012306239833580577)\n",
      "('AA', 0.011198110584308116)\n",
      "('AS', 0.002372980921996305)\n",
      "('B6', 0.0031511378973689006)\n",
      "('DL', 0.005119487307991593)\n",
      "('EV', 0.005318785893093139)\n",
      "('F9', 0.0031462972477306764)\n",
      "('MQ', 0.005247243038418695)\n",
      "('NK', 0.005719783313258358)\n",
      "('OH', 0.0016026999819824315)\n",
      "('OO', 0.008902223974525707)\n",
      "('UA', 0.01100259938932166)\n",
      "('VX', 0.0010469026322336302)\n",
      "('YX', 0.003878126905132784)\n",
      "('DepTime_early_am', 0.004415957792078188)\n",
      "('DepTime_early_pm', 0.005298696511552472)\n",
      "('DepTime_late_am', 0.013991499474212132)\n",
      "('DepTime_late_pm', 0.008745154540305632)\n"
     ]
    }
   ],
   "source": [
    "for i in zip(X.columns, frst.feature_importances_):\n",
    "    print (i)"
   ]
  },
  {
   "cell_type": "markdown",
   "metadata": {},
   "source": [
    "#### Metrics"
   ]
  },
  {
   "cell_type": "code",
   "execution_count": 84,
   "metadata": {},
   "outputs": [],
   "source": [
    "#from sklearn.metrics import *\n",
    "def print_metrics(y_true, y_prediction):\n",
    "    f1 = f1_score(y_true,y_prediction)\n",
    "    presc = precision_score(y_true, y_prediction)\n",
    "    auc = roc_auc_score(y_true, y_prediction)\n",
    "    recl = recall_score(y_true, y_prediction)\n",
    "    \n",
    "    print(f'The F1 Score is: {f1}\\n The Precision score is: {presc}\\n The Recall Score is: {recl} \\n The AUC score is {auc}'\n",
    "         )\n",
    "    print (confusion_matrix(y_true, y_prediction, labels=[True, False]))"
   ]
  },
  {
   "cell_type": "code",
   "execution_count": 85,
   "metadata": {},
   "outputs": [
    {
     "name": "stdout",
     "output_type": "stream",
     "text": [
      "The F1 Score is: 0.6925339392611218\n",
      " The Precision score is: 0.7311673445529604\n",
      " The Recall Score is: 0.6577782646801051 \n",
      " The AUC score is 0.7678807642779719\n",
      "[[120084  62476]\n",
      " [ 44152 317700]]\n"
     ]
    }
   ],
   "source": [
    "print_metrics(y, frst.predict(X))"
   ]
  },
  {
   "cell_type": "markdown",
   "metadata": {},
   "source": [
    "## Logistic Regression"
   ]
  },
  {
   "cell_type": "code",
   "execution_count": 67,
   "metadata": {},
   "outputs": [
    {
     "name": "stderr",
     "output_type": "stream",
     "text": [
      "/anaconda3/lib/python3.7/site-packages/sklearn/linear_model/logistic.py:433: FutureWarning: Default solver will be changed to 'lbfgs' in 0.22. Specify a solver to silence this warning.\n",
      "  FutureWarning)\n"
     ]
    },
    {
     "data": {
      "text/plain": [
       "LogisticRegression(C=0.03125, class_weight=None, dual=False,\n",
       "          fit_intercept=True, intercept_scaling=1, max_iter=100,\n",
       "          multi_class='warn', n_jobs=None, penalty='l2', random_state=None,\n",
       "          solver='warn', tol=0.0001, verbose=0, warm_start=False)"
      ]
     },
     "execution_count": 67,
     "metadata": {},
     "output_type": "execute_result"
    }
   ],
   "source": [
    "from sklearn.linear_model import LogisticRegression\n",
    "lr = LogisticRegression(C=2**-5)\n",
    "lr.fit(X_tr,y_tr)"
   ]
  },
  {
   "cell_type": "code",
   "execution_count": 86,
   "metadata": {},
   "outputs": [
    {
     "name": "stdout",
     "output_type": "stream",
     "text": [
      "The F1 Score is: 0.18791052317302834\n",
      " The Precision score is: 0.5887178011224636\n",
      " The Recall Score is: 0.11179733828874375 \n",
      " The AUC score is 0.5361310664330702\n",
      "[[ 4091 32502]\n",
      " [ 2858 69432]]\n"
     ]
    }
   ],
   "source": [
    "print_metrics(y_val, lr.predict(X_val))"
   ]
  },
  {
   "cell_type": "markdown",
   "metadata": {},
   "source": [
    "# Naive Bayes"
   ]
  },
  {
   "cell_type": "code",
   "execution_count": 2,
   "metadata": {},
   "outputs": [],
   "source": [
    "from sklearn.naive_bayes import GaussianNB\n",
    "\n"
   ]
  },
  {
   "cell_type": "code",
   "execution_count": 8,
   "metadata": {},
   "outputs": [],
   "source": [
    "from sklearn.model_selection import cross_validate, cross_val_predict, cross_val_score"
   ]
  },
  {
   "cell_type": "code",
   "execution_count": 15,
   "metadata": {},
   "outputs": [],
   "source": [
    "metrics = ['roc_auc','f1', 'accuracy', 'precision', 'recall']"
   ]
  },
  {
   "cell_type": "code",
   "execution_count": 16,
   "metadata": {},
   "outputs": [],
   "source": [
    "nb = GaussianNB()\n",
    "cv = cross_validate(nb, X_traintest, y_traintest, n_jobs=-1, cv=10, scoring=metrics, return_train_score=True)"
   ]
  },
  {
   "cell_type": "code",
   "execution_count": 17,
   "metadata": {},
   "outputs": [
    {
     "data": {
      "text/plain": [
       "{'fit_time': array([0.66254497, 0.7719481 , 0.80609202, 0.85577607, 0.91293573,\n",
       "        0.94252014, 0.92884398, 1.0211668 , 1.02004409, 1.04460502]),\n",
       " 'score_time': array([0.47212911, 0.44362116, 0.43498802, 0.4296639 , 0.42460513,\n",
       "        0.42839789, 0.44037008, 0.49765921, 0.51600885, 0.47039485]),\n",
       " 'test_roc_auc': array([0.62102303, 0.62098255, 0.62119262, 0.61954046, 0.62260339,\n",
       "        0.6287913 , 0.62401051, 0.61938593, 0.62515529, 0.62317177]),\n",
       " 'train_roc_auc': array([0.62336341, 0.62264737, 0.62278672, 0.62308935, 0.62254373,\n",
       "        0.62218771, 0.62225037, 0.62360387, 0.62285373, 0.62330921]),\n",
       " 'test_f1': array([0.35661463, 0.35532117, 0.3510879 , 0.34832145, 0.35653044,\n",
       "        0.35372306, 0.36305842, 0.34704517, 0.35091853, 0.33769121]),\n",
       " 'train_f1': array([0.35816332, 0.35548763, 0.35102274, 0.35192109, 0.35302761,\n",
       "        0.34619014, 0.36005727, 0.35310281, 0.34920094, 0.34536862]),\n",
       " 'test_accuracy': array([0.65842403, 0.65757451, 0.65761256, 0.65591348, 0.66052855,\n",
       "        0.66062039, 0.65954125, 0.65776543, 0.65845426, 0.658018  ]),\n",
       " 'train_accuracy': array([0.65936603, 0.65785063, 0.65793824, 0.65905821, 0.6585097 ,\n",
       "        0.65883881, 0.65788722, 0.65884733, 0.65882182, 0.65896213]),\n",
       " 'test_precision': array([0.48483067, 0.48267763, 0.48247817, 0.47809478, 0.49006939,\n",
       "        0.4901842 , 0.48793442, 0.48251919, 0.48451621, 0.48246506]),\n",
       " 'train_precision': array([0.48723516, 0.48336339, 0.48326092, 0.4861139 , 0.48481308,\n",
       "        0.48520564, 0.48376548, 0.48566144, 0.48535638, 0.48547552]),\n",
       " 'test_recall': array([0.28203023, 0.28114098, 0.27594227, 0.27395855, 0.28018332,\n",
       "        0.27669471, 0.28907586, 0.2709673 , 0.27507183, 0.25974826]),\n",
       " 'train_recall': array([0.28315396, 0.28111699, 0.27560653, 0.27578895, 0.27757509,\n",
       "        0.26909279, 0.28673386, 0.27739057, 0.27270102, 0.26801906])}"
      ]
     },
     "execution_count": 17,
     "metadata": {},
     "output_type": "execute_result"
    }
   ],
   "source": [
    "cv"
   ]
  },
  {
   "cell_type": "code",
   "execution_count": null,
   "metadata": {},
   "outputs": [],
   "source": []
  }
 ],
 "metadata": {
  "kernelspec": {
   "display_name": "Python3 OSX",
   "language": "python",
   "name": "base"
  },
  "language_info": {
   "codemirror_mode": {
    "name": "ipython",
    "version": 3
   },
   "file_extension": ".py",
   "mimetype": "text/x-python",
   "name": "python",
   "nbconvert_exporter": "python",
   "pygments_lexer": "ipython3",
   "version": "3.7.1"
  },
  "toc": {
   "base_numbering": 1,
   "nav_menu": {},
   "number_sections": true,
   "sideBar": true,
   "skip_h1_title": false,
   "title_cell": "Table of Contents",
   "title_sidebar": "Contents",
   "toc_cell": false,
   "toc_position": {},
   "toc_section_display": true,
   "toc_window_display": false
  },
  "varInspector": {
   "cols": {
    "lenName": 16,
    "lenType": 16,
    "lenVar": 40
   },
   "kernels_config": {
    "python": {
     "delete_cmd_postfix": "",
     "delete_cmd_prefix": "del ",
     "library": "var_list.py",
     "varRefreshCmd": "print(var_dic_list())"
    },
    "r": {
     "delete_cmd_postfix": ") ",
     "delete_cmd_prefix": "rm(",
     "library": "var_list.r",
     "varRefreshCmd": "cat(var_dic_list()) "
    }
   },
   "types_to_exclude": [
    "module",
    "function",
    "builtin_function_or_method",
    "instance",
    "_Feature"
   ],
   "window_display": false
  }
 },
 "nbformat": 4,
 "nbformat_minor": 2
}
